{
 "cells": [
  {
   "cell_type": "code",
   "execution_count": 39,
   "id": "c94fe7d6",
   "metadata": {},
   "outputs": [],
   "source": [
    "import pandas as pd\n",
    "import json\n",
    "from tqdm import tqdm"
   ]
  },
  {
   "cell_type": "code",
   "execution_count": 40,
   "id": "47d92f6e",
   "metadata": {},
   "outputs": [],
   "source": [
    "data = pd.read_csv(\"../assets/spotify_data.csv\")"
   ]
  },
  {
   "cell_type": "code",
   "execution_count": 41,
   "id": "e16af8db",
   "metadata": {},
   "outputs": [],
   "source": [
    "with open(\"../assets/music_genres_tree.json\", 'r') as f:\n",
    "\ttree = json.load(f)"
   ]
  },
  {
   "cell_type": "code",
   "execution_count": 42,
   "id": "6e2b69e4",
   "metadata": {},
   "outputs": [],
   "source": [
    "def get_leafs(tree):\n",
    "    childs = tree.get(\"children\")\n",
    "    if childs is None:\n",
    "        songs_list = []\n",
    "        tree[\"songs\"] = songs_list\n",
    "        yield (tree[\"name\"], songs_list)\n",
    "        return\n",
    "    for child in childs:\n",
    "        yield from get_leafs(child)"
   ]
  },
  {
   "cell_type": "code",
   "execution_count": 43,
   "id": "10514fed",
   "metadata": {},
   "outputs": [],
   "source": [
    "leaves = dict([*get_leafs(tree)])"
   ]
  },
  {
   "cell_type": "code",
   "execution_count": 44,
   "id": "b52a8ee7",
   "metadata": {},
   "outputs": [],
   "source": [
    "assert (expected_keys:=set(['acoustic', 'afrobeat', 'alt-rock', 'ambient', 'black-metal',\n",
    "       'blues', 'breakbeat', 'cantopop', 'chicago-house', 'chill',\n",
    "       'classical', 'club', 'comedy', 'country', 'dance', 'dancehall',\n",
    "       'death-metal', 'deep-house', 'detroit-techno', 'disco',\n",
    "       'drum-and-bass', 'dub', 'dubstep', 'edm', 'electro', 'electronic',\n",
    "       'emo', 'folk', 'forro', 'french', 'funk', 'garage', 'german',\n",
    "       'gospel', 'goth', 'grindcore', 'groove', 'guitar', 'hard-rock',\n",
    "       'hardcore', 'hardstyle', 'heavy-metal', 'hip-hop', 'house',\n",
    "       'indian', 'indie-pop', 'industrial', 'jazz', 'k-pop', 'metal',\n",
    "       'metalcore', 'minimal-techno', 'new-age', 'opera', 'party',\n",
    "       'piano', 'pop', 'pop-film', 'power-pop', 'progressive-house',\n",
    "       'psych-rock', 'punk', 'punk-rock', 'rock', 'rock-n-roll',\n",
    "       'romance', 'sad', 'salsa', 'samba', 'sertanejo', 'show-tunes',\n",
    "       'singer-songwriter', 'ska', 'sleep', 'songwriter', 'soul',\n",
    "       'spanish', 'swedish', 'tango', 'techno', 'trance', 'trip-hop'])) == set(leaves.keys())"
   ]
  },
  {
   "cell_type": "code",
   "execution_count": 45,
   "id": "6b9daeb8",
   "metadata": {},
   "outputs": [
    {
     "data": {
      "text/plain": [
       "(82, 82)"
      ]
     },
     "execution_count": 45,
     "metadata": {},
     "output_type": "execute_result"
    }
   ],
   "source": [
    "len(dict([*get_leafs(tree)])), len(expected_keys)"
   ]
  },
  {
   "cell_type": "code",
   "execution_count": 46,
   "id": "3f34cb69",
   "metadata": {},
   "outputs": [
    {
     "data": {
      "text/plain": [
       "Index(['Unnamed: 0', 'artist_name', 'track_name', 'track_id', 'popularity',\n",
       "       'year', 'genre', 'danceability', 'energy', 'key', 'loudness', 'mode',\n",
       "       'speechiness', 'acousticness', 'instrumentalness', 'liveness',\n",
       "       'valence', 'tempo', 'duration_ms', 'time_signature'],\n",
       "      dtype='object')"
      ]
     },
     "execution_count": 46,
     "metadata": {},
     "output_type": "execute_result"
    }
   ],
   "source": [
    "data.columns"
   ]
  },
  {
   "cell_type": "code",
   "execution_count": 47,
   "id": "0628749a",
   "metadata": {},
   "outputs": [
    {
     "data": {
      "text/html": [
       "<div>\n",
       "<style scoped>\n",
       "    .dataframe tbody tr th:only-of-type {\n",
       "        vertical-align: middle;\n",
       "    }\n",
       "\n",
       "    .dataframe tbody tr th {\n",
       "        vertical-align: top;\n",
       "    }\n",
       "\n",
       "    .dataframe thead th {\n",
       "        text-align: right;\n",
       "    }\n",
       "</style>\n",
       "<table border=\"1\" class=\"dataframe\">\n",
       "  <thead>\n",
       "    <tr style=\"text-align: right;\">\n",
       "      <th></th>\n",
       "      <th>track_name</th>\n",
       "      <th>track_id</th>\n",
       "    </tr>\n",
       "  </thead>\n",
       "  <tbody>\n",
       "    <tr>\n",
       "      <th>0</th>\n",
       "      <td>I Won't Give Up</td>\n",
       "      <td>53QF56cjZA9RTuuMZDrSA6</td>\n",
       "    </tr>\n",
       "    <tr>\n",
       "      <th>1</th>\n",
       "      <td>93 Million Miles</td>\n",
       "      <td>1s8tP3jP4GZcyHDsjvw218</td>\n",
       "    </tr>\n",
       "    <tr>\n",
       "      <th>2</th>\n",
       "      <td>Do Not Let Me Go</td>\n",
       "      <td>7BRCa8MPiyuvr2VU3O9W0F</td>\n",
       "    </tr>\n",
       "    <tr>\n",
       "      <th>3</th>\n",
       "      <td>Fast Car</td>\n",
       "      <td>63wsZUhUZLlh1OsyrZq7sz</td>\n",
       "    </tr>\n",
       "    <tr>\n",
       "      <th>4</th>\n",
       "      <td>Sky's Still Blue</td>\n",
       "      <td>6nXIYClvJAfi6ujLiKqEq8</td>\n",
       "    </tr>\n",
       "  </tbody>\n",
       "</table>\n",
       "</div>"
      ],
      "text/plain": [
       "         track_name                track_id\n",
       "0   I Won't Give Up  53QF56cjZA9RTuuMZDrSA6\n",
       "1  93 Million Miles  1s8tP3jP4GZcyHDsjvw218\n",
       "2  Do Not Let Me Go  7BRCa8MPiyuvr2VU3O9W0F\n",
       "3          Fast Car  63wsZUhUZLlh1OsyrZq7sz\n",
       "4  Sky's Still Blue  6nXIYClvJAfi6ujLiKqEq8"
      ]
     },
     "execution_count": 47,
     "metadata": {},
     "output_type": "execute_result"
    }
   ],
   "source": [
    "data.head()[[\"track_name\", \"track_id\"]]"
   ]
  },
  {
   "cell_type": "code",
   "execution_count": 48,
   "id": "6c8ab285",
   "metadata": {},
   "outputs": [
    {
     "name": "stdout",
     "output_type": "stream",
     "text": [
      "Utilisation des données corrigées: 1159764 lignes\n"
     ]
    },
    {
     "name": "stderr",
     "output_type": "stream",
     "text": [
      "100%|██████████| 1159764/1159764 [14:05<00:00, 1371.79it/s]\n",
      "100%|██████████| 1159764/1159764 [14:05<00:00, 1371.79it/s]\n"
     ]
    }
   ],
   "source": [
    "corrected_data = data.copy()\n",
    "corrected_data['track_name'] = corrected_data['track_name'].fillna(\"Unknown Track\")\n",
    "\n",
    "print(f\"Utilisation des données corrigées: {len(corrected_data)} lignes\")\n",
    "\n",
    "leaves = dict([*get_leafs(tree)])\n",
    "for song in tqdm(corrected_data.iterrows(), total=len(corrected_data)):\n",
    "    leaves[dict(song[1])[\"genre\"]].append(song[1][[\"track_name\", \"track_id\"]])"
   ]
  },
  {
   "cell_type": "code",
   "execution_count": 49,
   "id": "f9ac1093",
   "metadata": {},
   "outputs": [
    {
     "name": "stderr",
     "output_type": "stream",
     "text": [
      "Converting to serializable format: 100%|██████████| 82/82 [00:20<00:00,  4.05it/s]\n",
      "Converting to serializable format: 100%|██████████| 82/82 [00:20<00:00,  4.05it/s]\n"
     ]
    }
   ],
   "source": [
    "# Convertir les Series en dictionnaires \n",
    "leaves_serializable = {}\n",
    "for genre, songs_list in tqdm(leaves.items(), desc=\"Converting to serializable format\"):\n",
    "    leaves_serializable[genre] = [song.to_dict() for song in songs_list]"
   ]
  },
  {
   "cell_type": "code",
   "execution_count": 50,
   "id": "3edb0b78",
   "metadata": {},
   "outputs": [
    {
     "name": "stdout",
     "output_type": "stream",
     "text": [
      "Arbre enrichi créé avec 1159764 chansons au niveau racine\n"
     ]
    }
   ],
   "source": [
    "# Maintenant créons la structure hiérarchique avec l'arbre des genres enrichi\n",
    "def enrich_tree_with_songs(tree_node, songs_by_genre):\n",
    "    \"\"\"Enrichit récursivement l'arbre avec les chansons\"\"\"\n",
    "    # Ajouter les chansons pour ce nœud\n",
    "    tree_node['songs'] = songs_by_genre.get(tree_node['name'], [])\n",
    "    \n",
    "    # Si c'est une feuille, pas d'enfants à traiter\n",
    "    if 'children' not in tree_node or not tree_node['children']:\n",
    "        return tree_node\n",
    "    \n",
    "    # Traiter récursivement les enfants\n",
    "    for child in tree_node['children']:\n",
    "        enrich_tree_with_songs(child, songs_by_genre)\n",
    "    \n",
    "    # Agréger les chansons des enfants dans le parent\n",
    "    all_child_songs = []\n",
    "    for child in tree_node['children']:\n",
    "        all_child_songs.extend(child.get('songs', []))\n",
    "    \n",
    "    # Combiner les chansons directes et des enfants (sans doublons)\n",
    "    seen_ids = set()\n",
    "    combined_songs = []\n",
    "    \n",
    "    for song in tree_node['songs'] + all_child_songs:\n",
    "        if song['track_id'] not in seen_ids:\n",
    "            seen_ids.add(song['track_id'])\n",
    "            combined_songs.append(song)\n",
    "    \n",
    "    tree_node['songs'] = combined_songs\n",
    "    return tree_node\n",
    "\n",
    "# Enrichir l'arbre avec les chansons\n",
    "enriched_tree = enrich_tree_with_songs(tree.copy(), leaves_serializable)\n",
    "\n",
    "print(f\"Arbre enrichi créé avec {len(enriched_tree['songs'])} chansons au niveau racine\")"
   ]
  },
  {
   "cell_type": "markdown",
   "id": "1d395f8b",
   "metadata": {},
   "source": [
    "# Calcul des métriques agrégées pour chaque nœud\n",
    "\n",
    "Maintenant que l'arbre est enrichi avec les chansons, nous allons calculer les métriques agrégées (moyennes, médianes, min/max) pour chaque nœud afin de pouvoir les utiliser dans la visualisation interactive."
   ]
  },
  {
   "cell_type": "code",
   "execution_count": 51,
   "id": "a58b321d",
   "metadata": {},
   "outputs": [
    {
     "name": "stdout",
     "output_type": "stream",
     "text": [
      "✅ Fonction calculate_metrics_for_songs définie\n"
     ]
    }
   ],
   "source": [
    "def calculate_metrics_for_songs(songs_list):\n",
    "    \"\"\"Calcule les métriques agrégées pour une liste de chansons\"\"\"\n",
    "    if not songs_list:\n",
    "        return {\n",
    "            \"count\": 0,\n",
    "            \"avg_danceability\": 0,\n",
    "            \"avg_energy\": 0,\n",
    "            \"avg_popularity\": 0,\n",
    "            \"avg_duration\": 0,\n",
    "            \"median_year\": 0,\n",
    "            \"year_range\": [0, 0],\n",
    "            \"min_tempo\": 0,\n",
    "            \"max_tempo\": 0,\n",
    "            \"avg_valence\": 0\n",
    "        }\n",
    "    \n",
    "    # Récupérer les données complètes depuis le CSV pour chaque chanson\n",
    "    song_track_ids = [song['track_id'] for song in songs_list]\n",
    "    \n",
    "    # Filtrer les données du CSV pour les chansons de ce genre\n",
    "    genre_data = corrected_data[corrected_data['track_id'].isin(song_track_ids)]\n",
    "    \n",
    "    if len(genre_data) == 0:\n",
    "        return {\n",
    "            \"count\": len(songs_list),\n",
    "            \"avg_danceability\": 0,\n",
    "            \"avg_energy\": 0,\n",
    "            \"avg_popularity\": 0,\n",
    "            \"avg_duration\": 0,\n",
    "            \"median_year\": 0,\n",
    "            \"year_range\": [0, 0],\n",
    "            \"min_tempo\": 0,\n",
    "            \"max_tempo\": 0,\n",
    "            \"avg_valence\": 0\n",
    "        }\n",
    "    \n",
    "    # Calculer les métriques\n",
    "    metrics = {\n",
    "        \"count\": len(songs_list),\n",
    "        \"avg_danceability\": round(genre_data['danceability'].mean(), 3),\n",
    "        \"avg_energy\": round(genre_data['energy'].mean(), 3),\n",
    "        \"avg_popularity\": round(genre_data['popularity'].mean(), 1),\n",
    "        \"avg_duration\": round(genre_data['duration_ms'].mean(), 0),\n",
    "        \"median_year\": int(genre_data['year'].median()),\n",
    "        \"year_range\": [int(genre_data['year'].min()), int(genre_data['year'].max())],\n",
    "        \"min_tempo\": round(genre_data['tempo'].min(), 1),\n",
    "        \"max_tempo\": round(genre_data['tempo'].max(), 1),\n",
    "        \"avg_valence\": round(genre_data['valence'].mean(), 3)\n",
    "    }\n",
    "    \n",
    "    return metrics\n",
    "\n",
    "print(\"✅ Fonction calculate_metrics_for_songs définie\")"
   ]
  },
  {
   "cell_type": "code",
   "execution_count": 52,
   "id": "75a8c5c0",
   "metadata": {},
   "outputs": [
    {
     "name": "stdout",
     "output_type": "stream",
     "text": [
      "✅ Fonction enrich_tree_with_metrics définie\n"
     ]
    }
   ],
   "source": [
    "def enrich_tree_with_metrics(tree_node):\n",
    "    \"\"\"Enrichit récursivement l'arbre avec les métriques pour chaque nœud\"\"\"\n",
    "    \n",
    "    # Calculer les métriques pour les chansons de ce nœud\n",
    "    if 'songs' in tree_node and tree_node['songs']:\n",
    "        tree_node['metrics'] = calculate_metrics_for_songs(tree_node['songs'])\n",
    "    else:\n",
    "        tree_node['metrics'] = calculate_metrics_for_songs([])\n",
    "    \n",
    "    # Traiter récursivement les enfants\n",
    "    if 'children' in tree_node and tree_node['children']:\n",
    "        for child in tree_node['children']:\n",
    "            enrich_tree_with_metrics(child)\n",
    "    \n",
    "    return tree_node\n",
    "\n",
    "print(\"✅ Fonction enrich_tree_with_metrics définie\")"
   ]
  },
  {
   "cell_type": "code",
   "execution_count": 53,
   "id": "d335c2a2",
   "metadata": {},
   "outputs": [
    {
     "name": "stdout",
     "output_type": "stream",
     "text": [
      "🔄 Enrichissement de l'arbre avec les métriques...\n",
      "✅ Arbre enrichi avec métriques créé\n",
      "📊 Métriques au niveau racine:\n",
      "   - Nombre total de chansons: 1159764\n",
      "   - Danceability moyenne: 0.537\n",
      "   - Energy moyenne: 0.64\n",
      "   - Popularité moyenne: 18.4\n",
      "   - Plage d'années: [2000, 2023]\n",
      "\n",
      "📊 Exemples de métriques des genres principaux:\n",
      "   Traditions & Folk: 106719 chansons, danceability=0.575, energy=0.579\n",
      "   Classical & Soundtrack: 75130 chansons, danceability=0.434, energy=0.35\n",
      "   Jazz, Funk & Soul: 81356 chansons, danceability=0.568, energy=0.585\n",
      "   ... et 7 autres genres\n",
      "✅ Arbre enrichi avec métriques créé\n",
      "📊 Métriques au niveau racine:\n",
      "   - Nombre total de chansons: 1159764\n",
      "   - Danceability moyenne: 0.537\n",
      "   - Energy moyenne: 0.64\n",
      "   - Popularité moyenne: 18.4\n",
      "   - Plage d'années: [2000, 2023]\n",
      "\n",
      "📊 Exemples de métriques des genres principaux:\n",
      "   Traditions & Folk: 106719 chansons, danceability=0.575, energy=0.579\n",
      "   Classical & Soundtrack: 75130 chansons, danceability=0.434, energy=0.35\n",
      "   Jazz, Funk & Soul: 81356 chansons, danceability=0.568, energy=0.585\n",
      "   ... et 7 autres genres\n"
     ]
    }
   ],
   "source": [
    "# Enrichir l'arbre avec les métriques\n",
    "print(\"🔄 Enrichissement de l'arbre avec les métriques...\")\n",
    "\n",
    "# Appliquer l'enrichissement des métriques à l'arbre complet\n",
    "enriched_tree_with_metrics = enrich_tree_with_metrics(enriched_tree.copy())\n",
    "\n",
    "print(f\"✅ Arbre enrichi avec métriques créé\")\n",
    "print(f\"📊 Métriques au niveau racine:\")\n",
    "print(f\"   - Nombre total de chansons: {enriched_tree_with_metrics['metrics']['count']}\")\n",
    "print(f\"   - Danceability moyenne: {enriched_tree_with_metrics['metrics']['avg_danceability']}\")\n",
    "print(f\"   - Energy moyenne: {enriched_tree_with_metrics['metrics']['avg_energy']}\")\n",
    "print(f\"   - Popularité moyenne: {enriched_tree_with_metrics['metrics']['avg_popularity']}\")\n",
    "print(f\"   - Plage d'années: {enriched_tree_with_metrics['metrics']['year_range']}\")\n",
    "\n",
    "# Afficher quelques métriques des enfants du premier niveau\n",
    "if 'children' in enriched_tree_with_metrics and enriched_tree_with_metrics['children']:\n",
    "    print(f\"\\n📊 Exemples de métriques des genres principaux:\")\n",
    "    for i, child in enumerate(enriched_tree_with_metrics['children'][:3]):\n",
    "        metrics = child['metrics']\n",
    "        print(f\"   {child['name']}: {metrics['count']} chansons, danceability={metrics['avg_danceability']}, energy={metrics['avg_energy']}\")\n",
    "    if len(enriched_tree_with_metrics['children']) > 3:\n",
    "        print(f\"   ... et {len(enriched_tree_with_metrics['children']) - 3} autres genres\")"
   ]
  },
  {
   "cell_type": "code",
   "execution_count": 54,
   "id": "76b06a25",
   "metadata": {},
   "outputs": [
    {
     "name": "stderr",
     "output_type": "stream",
     "text": [
      "Saving enriched tree with metrics: 100%|██████████| 1/1 [00:47<00:00, 47.64s/it]"
     ]
    },
    {
     "name": "stdout",
     "output_type": "stream",
     "text": [
      "Structure hiérarchique avec métriques sauvegardée dans ../assets/indexByGenreSongs.json\n",
      "Le fichier contient maintenant:\n",
      "- Structure arborescente compatible avec TreeVizProcessor\n",
      "- Chansons indexées par genre\n",
      "- Métriques agrégées pour chaque nœud (danceability, energy, popularity, etc.)\n",
      "✅ Prêt pour la visualisation interactive avec filtres !\n"
     ]
    },
    {
     "name": "stderr",
     "output_type": "stream",
     "text": [
      "\n"
     ]
    }
   ],
   "source": [
    "output_file = \"../assets/indexByGenreSongs.json\"\n",
    "with tqdm(total=1, desc=\"Saving enriched tree with metrics\") as pbar:\n",
    "    with open(output_file, 'w', encoding='utf-8') as f:\n",
    "        json.dump(enriched_tree_with_metrics, f, indent=2, ensure_ascii=False)\n",
    "    pbar.update(1)\n",
    "\n",
    "print(f\"Structure hiérarchique avec métriques sauvegardée dans {output_file}\")\n",
    "print(\"Le fichier contient maintenant:\")\n",
    "print(\"- Structure arborescente compatible avec TreeVizProcessor\")\n",
    "print(\"- Chansons indexées par genre\")\n",
    "print(\"- Métriques agrégées pour chaque nœud (danceability, energy, popularity, etc.)\")\n",
    "print(\"✅ Prêt pour la visualisation interactive avec filtres !\")"
   ]
  }
 ],
 "metadata": {
  "kernelspec": {
   "display_name": ".venv",
   "language": "python",
   "name": "python3"
  },
  "language_info": {
   "codemirror_mode": {
    "name": "ipython",
    "version": 3
   },
   "file_extension": ".py",
   "mimetype": "text/x-python",
   "name": "python",
   "nbconvert_exporter": "python",
   "pygments_lexer": "ipython3",
   "version": "3.13.9"
  }
 },
 "nbformat": 4,
 "nbformat_minor": 5
}
